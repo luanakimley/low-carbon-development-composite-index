{
 "cells": [
  {
   "cell_type": "markdown",
   "metadata": {},
   "source": [
    "# Link to Other Indicators"
   ]
  },
  {
   "cell_type": "code",
   "execution_count": 17,
   "metadata": {},
   "outputs": [],
   "source": [
    "import pandas as pd"
   ]
  },
  {
   "cell_type": "code",
   "execution_count": 18,
   "metadata": {},
   "outputs": [],
   "source": [
    "lcd = pd.read_csv(\"lcdi/lcdi_index.csv\")"
   ]
  },
  {
   "cell_type": "code",
   "execution_count": 19,
   "metadata": {},
   "outputs": [],
   "source": [
    "country_name_mapping = {\n",
    "    \"Bahamas, The\": \"Bahamas\",\n",
    "    \"Bolivia\": \"Bolivia (Plurinational State of)\",\n",
    "    \"Brunei\": \"Brunei Darussalam\",\n",
    "    \"Congo, Dem. Rep.\": \"Democratic Republic of the Congo\",\n",
    "    \"Congo, Democratic Republic of the\": \"Democratic Republic of the Congo\",\n",
    "    \"The Democratic Republic of the Congo\": \"Democratic Republic of the Congo\",\n",
    "    \"Democratic Republic of Congo\": \"Democratic Republic of the Congo\",\n",
    "    \"Congo, Rep.\": \"Congo\",\n",
    "    \"Congo, Republic of\": \"Congo\",\n",
    "    \"Cape Verde\": \"Cabo Verde\",\n",
    "    \"Cote d'Ivoire\": \"Côte d’Ivoire\",\n",
    "    \"Ivory Coast\": \"Côte d’Ivoire\",\n",
    "    \"Czech Republic\": \"Czechia\",\n",
    "    \"Gambia, The\": \"Gambia\",\n",
    "    \"Korea, Rep.\": \"Republic of Korea\",\n",
    "    \"Korea, Republic of\": \"Republic of Korea\",\n",
    "    \"South Korea\": \"Republic of Korea\",\n",
    "    \"Korea, Dem. People's Rep.\": \"Democratic People's Republic of Korea\",\n",
    "    \"North Korea\": \"Democratic People's Republic of Korea\",\n",
    "    \"Iran, Islamic Rep.\": \"Iran (Islamic Republic of)\",\n",
    "    \"Iran\": \"Iran (Islamic Republic of)\",\n",
    "    \"Lao PDR\": \"Lao People's Democratic Republic\",\n",
    "    \"Lao\": \"Lao People's Democratic Republic\",\n",
    "    \"Laos\": \"Lao People's Democratic Republic\",\n",
    "    \"Micronesia, Fed. Sts.\": \"Micronesia (Federated States of)\",\n",
    "    \"Micronesia\": \"Micronesia (Federated States of)\",\n",
    "    \"Micronesia (country)\": \"Micronesia (Federated States of)\",\n",
    "    \"Moldova\": \"Republic of Moldova\",\n",
    "    \"Palestine, State of\": \"State of Palestine\",\n",
    "    \"St. Kitts and Nevis\": \"Saint Kitts and Nevis\",\n",
    "    \"St. Lucia\": \"Saint Lucia\",\n",
    "    \"St. Vincent and the Grenadines\": \"Saint Vincent and the Grenadines\",\n",
    "    \"Turkiye\": \"Turkey\",\n",
    "    \"Tanzania\": \"United Republic of Tanzania\",\n",
    "    \"Venezuela, RB\": \"Venezuela\",\n",
    "    \"Yemen, Rep.\": \"Yemen\",\n",
    "    \"Syria\": \"Syrian Arab Republic\",\n",
    "    \"Egypt, Arab Rep.\": \"Egypt\",\n",
    "    \"Kyrgyz Republic\": \"Kyrgyzstan\",\n",
    "    \"Slovak Republic\": \"Slovakia\",\n",
    "    \"Russia\": \"Russian Federation\",\n",
    "    \"United Kingdom\": \"United Kingdom of Great Britain and Northern Ireland\",\n",
    "    \"United States\": \"United States of America\",\n",
    "    \"East Timor\": \"Timor-Leste\",\n",
    "    \"Vietnam\": \"Viet Nam\",\n",
    "    \"Venezuela\": \"Venezuela (Bolivarian Republic of)\",\n",
    "    \"Venezuela, RB\": \"Venezuela (Bolivarian Republic of)\",\n",
    "    \"West Bank and Gaza\": \"State of Palestine\",\n",
    "    \"Palestine\": \"State of Palestine\",\n",
    "    \"Türkiye\": \"Turkey\",\n",
    "}"
   ]
  },
  {
   "cell_type": "markdown",
   "metadata": {},
   "source": [
    "## Sustainable Development Goals Index"
   ]
  },
  {
   "cell_type": "code",
   "execution_count": 20,
   "metadata": {},
   "outputs": [],
   "source": [
    "sdg = pd.read_csv(\"dataset/sdg_index.csv\")"
   ]
  },
  {
   "cell_type": "code",
   "execution_count": 21,
   "metadata": {},
   "outputs": [],
   "source": [
    "sdg.loc[:, 'Country'] = sdg['Country'].replace(country_name_mapping)\n",
    "sdg = sdg.rename(columns={'Country': 'country'})"
   ]
  },
  {
   "cell_type": "code",
   "execution_count": 22,
   "metadata": {},
   "outputs": [],
   "source": [
    "from functools import reduce"
   ]
  },
  {
   "cell_type": "code",
   "execution_count": 23,
   "metadata": {},
   "outputs": [
    {
     "data": {
      "text/html": [
       "<div>\n",
       "<style scoped>\n",
       "    .dataframe tbody tr th:only-of-type {\n",
       "        vertical-align: middle;\n",
       "    }\n",
       "\n",
       "    .dataframe tbody tr th {\n",
       "        vertical-align: top;\n",
       "    }\n",
       "\n",
       "    .dataframe thead th {\n",
       "        text-align: right;\n",
       "    }\n",
       "</style>\n",
       "<table border=\"1\" class=\"dataframe\">\n",
       "  <thead>\n",
       "    <tr style=\"text-align: right;\">\n",
       "      <th></th>\n",
       "      <th>country</th>\n",
       "      <th>2023 SDG Index Score</th>\n",
       "      <th>2023 SDG Index Rank</th>\n",
       "      <th>rank</th>\n",
       "      <th>region</th>\n",
       "      <th>environmental_score</th>\n",
       "      <th>socioeconomic_score</th>\n",
       "      <th>governance_score</th>\n",
       "      <th>lcdi</th>\n",
       "    </tr>\n",
       "  </thead>\n",
       "  <tbody>\n",
       "    <tr>\n",
       "      <th>0</th>\n",
       "      <td>Finland</td>\n",
       "      <td>86.8</td>\n",
       "      <td>1</td>\n",
       "      <td>4.0</td>\n",
       "      <td>WEOG</td>\n",
       "      <td>0.885223</td>\n",
       "      <td>0.942</td>\n",
       "      <td>0.965217</td>\n",
       "      <td>0.916514</td>\n",
       "    </tr>\n",
       "    <tr>\n",
       "      <th>1</th>\n",
       "      <td>Sweden</td>\n",
       "      <td>86.0</td>\n",
       "      <td>2</td>\n",
       "      <td>2.0</td>\n",
       "      <td>WEOG</td>\n",
       "      <td>0.894651</td>\n",
       "      <td>0.952</td>\n",
       "      <td>0.982609</td>\n",
       "      <td>0.927151</td>\n",
       "    </tr>\n",
       "    <tr>\n",
       "      <th>2</th>\n",
       "      <td>Denmark</td>\n",
       "      <td>85.7</td>\n",
       "      <td>3</td>\n",
       "      <td>7.0</td>\n",
       "      <td>WEOG</td>\n",
       "      <td>0.846441</td>\n",
       "      <td>0.952</td>\n",
       "      <td>0.982609</td>\n",
       "      <td>0.903046</td>\n",
       "    </tr>\n",
       "    <tr>\n",
       "      <th>3</th>\n",
       "      <td>Germany</td>\n",
       "      <td>83.4</td>\n",
       "      <td>4</td>\n",
       "      <td>19.0</td>\n",
       "      <td>WEOG</td>\n",
       "      <td>0.793880</td>\n",
       "      <td>0.950</td>\n",
       "      <td>0.982609</td>\n",
       "      <td>0.876016</td>\n",
       "    </tr>\n",
       "    <tr>\n",
       "      <th>4</th>\n",
       "      <td>Austria</td>\n",
       "      <td>82.3</td>\n",
       "      <td>5</td>\n",
       "      <td>9.0</td>\n",
       "      <td>WEOG</td>\n",
       "      <td>0.857549</td>\n",
       "      <td>0.926</td>\n",
       "      <td>0.965217</td>\n",
       "      <td>0.896676</td>\n",
       "    </tr>\n",
       "  </tbody>\n",
       "</table>\n",
       "</div>"
      ],
      "text/plain": [
       "   country  2023 SDG Index Score  2023 SDG Index Rank  rank region  \\\n",
       "0  Finland                  86.8                    1   4.0   WEOG   \n",
       "1   Sweden                  86.0                    2   2.0   WEOG   \n",
       "2  Denmark                  85.7                    3   7.0   WEOG   \n",
       "3  Germany                  83.4                    4  19.0   WEOG   \n",
       "4  Austria                  82.3                    5   9.0   WEOG   \n",
       "\n",
       "   environmental_score  socioeconomic_score  governance_score      lcdi  \n",
       "0             0.885223                0.942          0.965217  0.916514  \n",
       "1             0.894651                0.952          0.982609  0.927151  \n",
       "2             0.846441                0.952          0.982609  0.903046  \n",
       "3             0.793880                0.950          0.982609  0.876016  \n",
       "4             0.857549                0.926          0.965217  0.896676  "
      ]
     },
     "execution_count": 23,
     "metadata": {},
     "output_type": "execute_result"
    }
   ],
   "source": [
    "dfs = [sdg, lcd]\n",
    "merge_dfs = lambda left, right: pd.merge(left, right, on='country', how='inner')\n",
    "combined_df = reduce(merge_dfs, dfs)\n",
    "combined_df.head()"
   ]
  },
  {
   "cell_type": "code",
   "execution_count": 24,
   "metadata": {},
   "outputs": [],
   "source": [
    "from matplotlib import pyplot as plt\n",
    "from scipy.stats import pearsonr\n",
    "import numpy as np"
   ]
  },
  {
   "cell_type": "code",
   "execution_count": 25,
   "metadata": {},
   "outputs": [
    {
     "data": {
      "text/plain": [
       "[<matplotlib.lines.Line2D at 0x1699b1b50>]"
      ]
     },
     "execution_count": 25,
     "metadata": {},
     "output_type": "execute_result"
    },
    {
     "data": {
      "image/png": "[encoded data removed]",
      "text/plain": [
       "<Figure size 640x480 with 1 Axes>"
      ]
     },
     "metadata": {},
     "output_type": "display_data"
    }
   ],
   "source": [
    "plt.title(\"SDG Index vs LCD Index\")\n",
    "plt.xlabel(\"SDG Index\")\n",
    "plt.ylabel(\"LCD Index\")\n",
    "plt.scatter(combined_df['2023 SDG Index Score'], combined_df['lcdi'])\n",
    "plt.plot(np.unique(combined_df['2023 SDG Index Score']), np.poly1d(np.polyfit(combined_df['2023 SDG Index Score'], combined_df['lcdi'], 1))(np.unique(combined_df['2023 SDG Index Score'])))"
   ]
  },
  {
   "cell_type": "code",
   "execution_count": 26,
   "metadata": {},
   "outputs": [
    {
     "data": {
      "text/plain": [
       "PearsonRResult(statistic=0.7227735897628957, pvalue=4.127088368450117e-28)"
      ]
     },
     "execution_count": 26,
     "metadata": {},
     "output_type": "execute_result"
    }
   ],
   "source": [
    "corr = pearsonr(combined_df['2023 SDG Index Score'], combined_df['lcdi'])\n",
    "corr"
   ]
  },
  {
   "cell_type": "markdown",
   "metadata": {},
   "source": [
    "Result: Significant strong positive correlation (71.9%)"
   ]
  },
  {
   "cell_type": "markdown",
   "metadata": {},
   "source": [
    "## Environmental Performance Index"
   ]
  },
  {
   "cell_type": "code",
   "execution_count": 27,
   "metadata": {},
   "outputs": [],
   "source": [
    "epi = pd.read_csv(\"dataset/YALE-EPI.csv\")"
   ]
  },
  {
   "cell_type": "code",
   "execution_count": 28,
   "metadata": {},
   "outputs": [
    {
     "data": {
      "text/html": [
       "<div>\n",
       "<style scoped>\n",
       "    .dataframe tbody tr th:only-of-type {\n",
       "        vertical-align: middle;\n",
       "    }\n",
       "\n",
       "    .dataframe tbody tr th {\n",
       "        vertical-align: top;\n",
       "    }\n",
       "\n",
       "    .dataframe thead th {\n",
       "        text-align: right;\n",
       "    }\n",
       "</style>\n",
       "<table border=\"1\" class=\"dataframe\">\n",
       "  <thead>\n",
       "    <tr style=\"text-align: right;\">\n",
       "      <th></th>\n",
       "      <th>Economy Name</th>\n",
       "      <th>2022</th>\n",
       "    </tr>\n",
       "  </thead>\n",
       "  <tbody>\n",
       "    <tr>\n",
       "      <th>36</th>\n",
       "      <td>Afghanistan</td>\n",
       "      <td>43.6</td>\n",
       "    </tr>\n",
       "    <tr>\n",
       "      <th>84</th>\n",
       "      <td>Angola</td>\n",
       "      <td>30.5</td>\n",
       "    </tr>\n",
       "    <tr>\n",
       "      <th>139</th>\n",
       "      <td>Albania</td>\n",
       "      <td>47.1</td>\n",
       "    </tr>\n",
       "    <tr>\n",
       "      <th>214</th>\n",
       "      <td>United Arab Emirates</td>\n",
       "      <td>52.4</td>\n",
       "    </tr>\n",
       "    <tr>\n",
       "      <th>266</th>\n",
       "      <td>Argentina</td>\n",
       "      <td>41.1</td>\n",
       "    </tr>\n",
       "  </tbody>\n",
       "</table>\n",
       "</div>"
      ],
      "text/plain": [
       "             Economy Name  2022\n",
       "36            Afghanistan  43.6\n",
       "84                 Angola  30.5\n",
       "139               Albania  47.1\n",
       "214  United Arab Emirates  52.4\n",
       "266             Argentina  41.1"
      ]
     },
     "execution_count": 28,
     "metadata": {},
     "output_type": "execute_result"
    }
   ],
   "source": [
    "epi = epi[epi['Indicator ID'].isin(['YALE.EPI.EPI'])]\n",
    "epi = epi[['Economy Name', '2022']]\n",
    "epi.head()"
   ]
  },
  {
   "cell_type": "code",
   "execution_count": 29,
   "metadata": {},
   "outputs": [],
   "source": [
    "epi = epi.rename(columns={'Economy Name': 'country'})\n",
    "epi.loc[:, 'country'] = epi['country'].replace(country_name_mapping)"
   ]
  },
  {
   "cell_type": "code",
   "execution_count": 30,
   "metadata": {},
   "outputs": [
    {
     "data": {
      "text/html": [
       "<div>\n",
       "<style scoped>\n",
       "    .dataframe tbody tr th:only-of-type {\n",
       "        vertical-align: middle;\n",
       "    }\n",
       "\n",
       "    .dataframe tbody tr th {\n",
       "        vertical-align: top;\n",
       "    }\n",
       "\n",
       "    .dataframe thead th {\n",
       "        text-align: right;\n",
       "    }\n",
       "</style>\n",
       "<table border=\"1\" class=\"dataframe\">\n",
       "  <thead>\n",
       "    <tr style=\"text-align: right;\">\n",
       "      <th></th>\n",
       "      <th>country</th>\n",
       "      <th>2022</th>\n",
       "      <th>rank</th>\n",
       "      <th>region</th>\n",
       "      <th>environmental_score</th>\n",
       "      <th>socioeconomic_score</th>\n",
       "      <th>governance_score</th>\n",
       "      <th>lcdi</th>\n",
       "    </tr>\n",
       "  </thead>\n",
       "  <tbody>\n",
       "    <tr>\n",
       "      <th>0</th>\n",
       "      <td>Afghanistan</td>\n",
       "      <td>43.6</td>\n",
       "      <td>183.0</td>\n",
       "      <td>Asia-Pacific Group</td>\n",
       "      <td>0.817781</td>\n",
       "      <td>0.462</td>\n",
       "      <td>0.826087</td>\n",
       "      <td>0.685402</td>\n",
       "    </tr>\n",
       "    <tr>\n",
       "      <th>1</th>\n",
       "      <td>Angola</td>\n",
       "      <td>30.5</td>\n",
       "      <td>181.0</td>\n",
       "      <td>African Group</td>\n",
       "      <td>0.887705</td>\n",
       "      <td>0.591</td>\n",
       "      <td>0.260870</td>\n",
       "      <td>0.698086</td>\n",
       "    </tr>\n",
       "    <tr>\n",
       "      <th>2</th>\n",
       "      <td>Albania</td>\n",
       "      <td>47.1</td>\n",
       "      <td>49.0</td>\n",
       "      <td>Eastern European Group</td>\n",
       "      <td>0.860867</td>\n",
       "      <td>0.789</td>\n",
       "      <td>0.965217</td>\n",
       "      <td>0.846961</td>\n",
       "    </tr>\n",
       "    <tr>\n",
       "      <th>3</th>\n",
       "      <td>United Arab Emirates</td>\n",
       "      <td>52.4</td>\n",
       "      <td>35.0</td>\n",
       "      <td>Asia-Pacific Group</td>\n",
       "      <td>0.787643</td>\n",
       "      <td>0.937</td>\n",
       "      <td>0.947826</td>\n",
       "      <td>0.863675</td>\n",
       "    </tr>\n",
       "    <tr>\n",
       "      <th>4</th>\n",
       "      <td>Argentina</td>\n",
       "      <td>41.1</td>\n",
       "      <td>58.0</td>\n",
       "      <td>GRULAC</td>\n",
       "      <td>0.796867</td>\n",
       "      <td>0.849</td>\n",
       "      <td>0.965217</td>\n",
       "      <td>0.837461</td>\n",
       "    </tr>\n",
       "  </tbody>\n",
       "</table>\n",
       "</div>"
      ],
      "text/plain": [
       "                country  2022   rank                  region  \\\n",
       "0           Afghanistan  43.6  183.0      Asia-Pacific Group   \n",
       "1                Angola  30.5  181.0           African Group   \n",
       "2               Albania  47.1   49.0  Eastern European Group   \n",
       "3  United Arab Emirates  52.4   35.0      Asia-Pacific Group   \n",
       "4             Argentina  41.1   58.0                  GRULAC   \n",
       "\n",
       "   environmental_score  socioeconomic_score  governance_score      lcdi  \n",
       "0             0.817781                0.462          0.826087  0.685402  \n",
       "1             0.887705                0.591          0.260870  0.698086  \n",
       "2             0.860867                0.789          0.965217  0.846961  \n",
       "3             0.787643                0.937          0.947826  0.863675  \n",
       "4             0.796867                0.849          0.965217  0.837461  "
      ]
     },
     "execution_count": 30,
     "metadata": {},
     "output_type": "execute_result"
    }
   ],
   "source": [
    "dfs = [epi, lcd]\n",
    "merge_dfs = lambda left, right: pd.merge(left, right, on='country', how='inner')\n",
    "combined_df = reduce(merge_dfs, dfs)\n",
    "combined_df.head()"
   ]
  },
  {
   "cell_type": "code",
   "execution_count": 31,
   "metadata": {},
   "outputs": [
    {
     "data": {
      "text/plain": [
       "[<matplotlib.lines.Line2D at 0x1699e0e90>]"
      ]
     },
     "execution_count": 31,
     "metadata": {},
     "output_type": "execute_result"
    },
    {
     "data": {
      "image/png": "[encoded data removed]",
      "text/plain": [
       "<Figure size 640x480 with 1 Axes>"
      ]
     },
     "metadata": {},
     "output_type": "display_data"
    }
   ],
   "source": [
    "plt.title(\"EPI Index vs LCD Index\")\n",
    "plt.xlabel(\"EPI Index\")\n",
    "plt.ylabel(\"LCD Index\")\n",
    "plt.scatter(combined_df['2022'], combined_df['lcdi'])\n",
    "plt.plot(np.unique(combined_df['2022']), np.poly1d(np.polyfit(combined_df['2022'], combined_df['lcdi'], 1))(np.unique(combined_df['2022'])))"
   ]
  },
  {
   "cell_type": "code",
   "execution_count": 32,
   "metadata": {},
   "outputs": [
    {
     "data": {
      "text/plain": [
       "PearsonRResult(statistic=0.6919843964263809, pvalue=1.0693805113623709e-26)"
      ]
     },
     "execution_count": 32,
     "metadata": {},
     "output_type": "execute_result"
    }
   ],
   "source": [
    "corr = pearsonr(combined_df['2022'], combined_df['lcdi'])\n",
    "corr"
   ]
  },
  {
   "cell_type": "markdown",
   "metadata": {},
   "source": [
    "Result: Significant strong positive correlation (69.4%)"
   ]
  }
 ],
 "metadata": {
  "kernelspec": {
   "display_name": "Python 3",
   "language": "python",
   "name": "python3"
  },
  "language_info": {
   "codemirror_mode": {
    "name": "ipython",
    "version": 3
   },
   "file_extension": ".py",
   "mimetype": "text/x-python",
   "name": "python",
   "nbconvert_exporter": "python",
   "pygments_lexer": "ipython3",
   "version": "3.11.5"
  }
 },
 "nbformat": 4,
 "nbformat_minor": 2
}
