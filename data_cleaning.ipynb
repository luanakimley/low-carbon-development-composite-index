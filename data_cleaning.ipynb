{
 "cells": [
  {
   "cell_type": "markdown",
   "metadata": {},
   "source": [
    "# Data Cleaning"
   ]
  },
  {
   "cell_type": "markdown",
   "metadata": {},
   "source": [
    "## 1. Loading the Data"
   ]
  },
  {
   "cell_type": "code",
   "execution_count": 470,
   "metadata": {},
   "outputs": [],
   "source": [
    "import pandas as pd"
   ]
  },
  {
   "cell_type": "code",
   "execution_count": 471,
   "metadata": {},
   "outputs": [],
   "source": [
    "forest_area = pd.read_csv(\"dataset/Forest Area.csv\")\n",
    "freshwater = pd.read_csv(\"dataset/Freshwater.csv\", skiprows=3)\n",
    "gdp_per_capita = pd.read_csv(\"dataset/gdp_per_capita.csv\")\n",
    "governance = pd.read_csv(\"dataset/Governance.csv\")\n",
    "human_development_index = pd.read_csv(\"dataset/Human Development Index.csv\")\n",
    "sustainable_energy = pd.read_csv(\"dataset/Sustainable energy for all.csv\", skiprows=3)\n",
    "emissions = pd.read_csv(\"dataset/trends_in_greenhouse_gas_emissions.csv\", skiprows=3)"
   ]
  },
  {
   "cell_type": "markdown",
   "metadata": {},
   "source": [
    "## 2. Choosing Relevant Variables"
   ]
  },
  {
   "cell_type": "markdown",
   "metadata": {},
   "source": [
    "### Forest Area - 2020 Forest Area"
   ]
  },
  {
   "cell_type": "code",
   "execution_count": 472,
   "metadata": {},
   "outputs": [
    {
     "data": {
      "text/html": [
       "<div>\n",
       "<style scoped>\n",
       "    .dataframe tbody tr th:only-of-type {\n",
       "        vertical-align: middle;\n",
       "    }\n",
       "\n",
       "    .dataframe tbody tr th {\n",
       "        vertical-align: top;\n",
       "    }\n",
       "\n",
       "    .dataframe thead th {\n",
       "        text-align: right;\n",
       "    }\n",
       "</style>\n",
       "<table border=\"1\" class=\"dataframe\">\n",
       "  <thead>\n",
       "    <tr style=\"text-align: right;\">\n",
       "      <th></th>\n",
       "      <th>Country</th>\n",
       "      <th>Forest Area, 2020 (1000 ha)</th>\n",
       "    </tr>\n",
       "  </thead>\n",
       "  <tbody>\n",
       "    <tr>\n",
       "      <th>0</th>\n",
       "      <td>WORLD</td>\n",
       "      <td>4058930.81</td>\n",
       "    </tr>\n",
       "    <tr>\n",
       "      <th>1</th>\n",
       "      <td>Afghanistan</td>\n",
       "      <td>1208.44</td>\n",
       "    </tr>\n",
       "    <tr>\n",
       "      <th>2</th>\n",
       "      <td>Albania</td>\n",
       "      <td>788.90</td>\n",
       "    </tr>\n",
       "    <tr>\n",
       "      <th>3</th>\n",
       "      <td>Algeria</td>\n",
       "      <td>1949.00</td>\n",
       "    </tr>\n",
       "    <tr>\n",
       "      <th>4</th>\n",
       "      <td>American Samoa</td>\n",
       "      <td>17.13</td>\n",
       "    </tr>\n",
       "  </tbody>\n",
       "</table>\n",
       "</div>"
      ],
      "text/plain": [
       "          Country  Forest Area, 2020 (1000 ha)\n",
       "0           WORLD                   4058930.81\n",
       "1     Afghanistan                      1208.44\n",
       "2         Albania                       788.90\n",
       "3         Algeria                      1949.00\n",
       "4  American Samoa                        17.13"
      ]
     },
     "execution_count": 472,
     "metadata": {},
     "output_type": "execute_result"
    }
   ],
   "source": [
    "# Forest area\n",
    "forest_area_filtered = forest_area[['Country and Area', 'Forest Area, 2020 (1000 ha)']]\n",
    "forest_area_filtered = forest_area_filtered.rename(columns={'Country and Area': 'Country'})\n",
    "forest_area_filtered.head()"
   ]
  },
  {
   "cell_type": "markdown",
   "metadata": {},
   "source": [
    "### Freshwater"
   ]
  },
  {
   "cell_type": "code",
   "execution_count": 473,
   "metadata": {},
   "outputs": [
    {
     "data": {
      "text/html": [
       "<div>\n",
       "<style scoped>\n",
       "    .dataframe tbody tr th:only-of-type {\n",
       "        vertical-align: middle;\n",
       "    }\n",
       "\n",
       "    .dataframe tbody tr th {\n",
       "        vertical-align: top;\n",
       "    }\n",
       "\n",
       "    .dataframe thead th {\n",
       "        text-align: right;\n",
       "    }\n",
       "</style>\n",
       "<table border=\"1\" class=\"dataframe\">\n",
       "  <thead>\n",
       "    <tr style=\"text-align: right;\">\n",
       "      <th></th>\n",
       "      <th>Country</th>\n",
       "      <th>Internal renewable freshwater resources flows 2020</th>\n",
       "    </tr>\n",
       "  </thead>\n",
       "  <tbody>\n",
       "    <tr>\n",
       "      <th>0</th>\n",
       "      <td>Afghanistan</td>\n",
       "      <td>47.2</td>\n",
       "    </tr>\n",
       "    <tr>\n",
       "      <th>1</th>\n",
       "      <td>Albania</td>\n",
       "      <td>26.9</td>\n",
       "    </tr>\n",
       "    <tr>\n",
       "      <th>2</th>\n",
       "      <td>Algeria</td>\n",
       "      <td>11.2</td>\n",
       "    </tr>\n",
       "    <tr>\n",
       "      <th>3</th>\n",
       "      <td>American Samoa</td>\n",
       "      <td>..</td>\n",
       "    </tr>\n",
       "    <tr>\n",
       "      <th>4</th>\n",
       "      <td>Andorra</td>\n",
       "      <td>0.3</td>\n",
       "    </tr>\n",
       "  </tbody>\n",
       "</table>\n",
       "</div>"
      ],
      "text/plain": [
       "          Country Internal renewable freshwater resources flows 2020\n",
       "0     Afghanistan                                               47.2\n",
       "1         Albania                                               26.9\n",
       "2         Algeria                                               11.2\n",
       "3  American Samoa                                                 ..\n",
       "4         Andorra                                                0.3"
      ]
     },
     "execution_count": 473,
     "metadata": {},
     "output_type": "execute_result"
    }
   ],
   "source": [
    "freshwater_filtered = freshwater[['Country', 'Internal renewable freshwater resources flows 2020']]\n",
    "freshwater_filtered.head()"
   ]
  },
  {
   "cell_type": "markdown",
   "metadata": {},
   "source": [
    "### GDP per Capita"
   ]
  },
  {
   "cell_type": "code",
   "execution_count": 474,
   "metadata": {},
   "outputs": [
    {
     "data": {
      "text/html": [
       "<div>\n",
       "<style scoped>\n",
       "    .dataframe tbody tr th:only-of-type {\n",
       "        vertical-align: middle;\n",
       "    }\n",
       "\n",
       "    .dataframe tbody tr th {\n",
       "        vertical-align: top;\n",
       "    }\n",
       "\n",
       "    .dataframe thead th {\n",
       "        text-align: right;\n",
       "    }\n",
       "</style>\n",
       "<table border=\"1\" class=\"dataframe\">\n",
       "  <thead>\n",
       "    <tr style=\"text-align: right;\">\n",
       "      <th></th>\n",
       "      <th>Country</th>\n",
       "      <th>GDP per Capita 2021</th>\n",
       "    </tr>\n",
       "  </thead>\n",
       "  <tbody>\n",
       "    <tr>\n",
       "      <th>0</th>\n",
       "      <td>Afghanistan</td>\n",
       "      <td>355.777826392648</td>\n",
       "    </tr>\n",
       "    <tr>\n",
       "      <th>1</th>\n",
       "      <td>Albania</td>\n",
       "      <td>6377.20309553753</td>\n",
       "    </tr>\n",
       "    <tr>\n",
       "      <th>2</th>\n",
       "      <td>Algeria</td>\n",
       "      <td>3700.31469728198</td>\n",
       "    </tr>\n",
       "    <tr>\n",
       "      <th>3</th>\n",
       "      <td>American Samoa</td>\n",
       "      <td>16653.7137781725</td>\n",
       "    </tr>\n",
       "    <tr>\n",
       "      <th>4</th>\n",
       "      <td>Andorra</td>\n",
       "      <td>42072.3194231234</td>\n",
       "    </tr>\n",
       "  </tbody>\n",
       "</table>\n",
       "</div>"
      ],
      "text/plain": [
       "          Country GDP per Capita 2021\n",
       "0     Afghanistan    355.777826392648\n",
       "1         Albania    6377.20309553753\n",
       "2         Algeria    3700.31469728198\n",
       "3  American Samoa    16653.7137781725\n",
       "4         Andorra    42072.3194231234"
      ]
     },
     "execution_count": 474,
     "metadata": {},
     "output_type": "execute_result"
    }
   ],
   "source": [
    "gdp_per_capita_filtered = gdp_per_capita[['Country Name', '2021 [YR2021]']]\n",
    "gdp_per_capita_filtered = gdp_per_capita_filtered.rename(columns={'Country Name': 'Country'})\n",
    "gdp_per_capita_filtered = gdp_per_capita_filtered.rename(columns={'2021 [YR2021]': 'GDP per Capita 2021'})\n",
    "gdp_per_capita_filtered.head()"
   ]
  },
  {
   "cell_type": "markdown",
   "metadata": {},
   "source": [
    "### Governance"
   ]
  },
  {
   "cell_type": "code",
   "execution_count": 475,
   "metadata": {},
   "outputs": [
    {
     "data": {
      "text/html": [
       "<div>\n",
       "<style scoped>\n",
       "    .dataframe tbody tr th:only-of-type {\n",
       "        vertical-align: middle;\n",
       "    }\n",
       "\n",
       "    .dataframe tbody tr th {\n",
       "        vertical-align: top;\n",
       "    }\n",
       "\n",
       "    .dataframe thead th {\n",
       "        text-align: right;\n",
       "    }\n",
       "</style>\n",
       "<table border=\"1\" class=\"dataframe\">\n",
       "  <thead>\n",
       "    <tr style=\"text-align: right;\">\n",
       "      <th></th>\n",
       "      <th>Country</th>\n",
       "      <th>Paris Agreement</th>\n",
       "      <th>UN Framework Convention on Climate Change</th>\n",
       "    </tr>\n",
       "  </thead>\n",
       "  <tbody>\n",
       "    <tr>\n",
       "      <th>0</th>\n",
       "      <td>Afghanistan</td>\n",
       "      <td>2017</td>\n",
       "      <td>2002</td>\n",
       "    </tr>\n",
       "    <tr>\n",
       "      <th>1</th>\n",
       "      <td>Albania</td>\n",
       "      <td>2016</td>\n",
       "      <td>1994</td>\n",
       "    </tr>\n",
       "    <tr>\n",
       "      <th>2</th>\n",
       "      <td>Algeria</td>\n",
       "      <td>2016</td>\n",
       "      <td>1993</td>\n",
       "    </tr>\n",
       "    <tr>\n",
       "      <th>3</th>\n",
       "      <td>Andorra</td>\n",
       "      <td>2017</td>\n",
       "      <td>2011</td>\n",
       "    </tr>\n",
       "    <tr>\n",
       "      <th>4</th>\n",
       "      <td>Angola</td>\n",
       "      <td>...</td>\n",
       "      <td>2000</td>\n",
       "    </tr>\n",
       "  </tbody>\n",
       "</table>\n",
       "</div>"
      ],
      "text/plain": [
       "       Country Paris Agreement  UN Framework Convention on Climate Change\n",
       "0  Afghanistan            2017                                       2002\n",
       "1      Albania            2016                                       1994\n",
       "2      Algeria            2016                                       1993\n",
       "3      Andorra            2017                                       2011\n",
       "4       Angola             ...                                       2000"
      ]
     },
     "execution_count": 475,
     "metadata": {},
     "output_type": "execute_result"
    }
   ],
   "source": [
    "governance_filtered = governance[['Country and area', 'Paris Agreement', 'UN Framework Convention on Climate Change']]\n",
    "governance_filtered = governance_filtered.rename(columns={'Country and area': 'Country'})\n",
    "governance_filtered.head()"
   ]
  },
  {
   "cell_type": "markdown",
   "metadata": {},
   "source": [
    "### Human Development Index"
   ]
  },
  {
   "cell_type": "code",
   "execution_count": 476,
   "metadata": {},
   "outputs": [
    {
     "data": {
      "text/html": [
       "<div>\n",
       "<style scoped>\n",
       "    .dataframe tbody tr th:only-of-type {\n",
       "        vertical-align: middle;\n",
       "    }\n",
       "\n",
       "    .dataframe tbody tr th {\n",
       "        vertical-align: top;\n",
       "    }\n",
       "\n",
       "    .dataframe thead th {\n",
       "        text-align: right;\n",
       "    }\n",
       "</style>\n",
       "<table border=\"1\" class=\"dataframe\">\n",
       "  <thead>\n",
       "    <tr style=\"text-align: right;\">\n",
       "      <th></th>\n",
       "      <th>Country</th>\n",
       "      <th>Human Development Index (2021)</th>\n",
       "    </tr>\n",
       "  </thead>\n",
       "  <tbody>\n",
       "    <tr>\n",
       "      <th>0</th>\n",
       "      <td>Afghanistan</td>\n",
       "      <td>0.478</td>\n",
       "    </tr>\n",
       "    <tr>\n",
       "      <th>1</th>\n",
       "      <td>Angola</td>\n",
       "      <td>0.586</td>\n",
       "    </tr>\n",
       "    <tr>\n",
       "      <th>2</th>\n",
       "      <td>Albania</td>\n",
       "      <td>0.796</td>\n",
       "    </tr>\n",
       "    <tr>\n",
       "      <th>3</th>\n",
       "      <td>Andorra</td>\n",
       "      <td>0.858</td>\n",
       "    </tr>\n",
       "    <tr>\n",
       "      <th>4</th>\n",
       "      <td>United Arab Emirates</td>\n",
       "      <td>0.911</td>\n",
       "    </tr>\n",
       "  </tbody>\n",
       "</table>\n",
       "</div>"
      ],
      "text/plain": [
       "                Country  Human Development Index (2021)\n",
       "0           Afghanistan                           0.478\n",
       "1                Angola                           0.586\n",
       "2               Albania                           0.796\n",
       "3               Andorra                           0.858\n",
       "4  United Arab Emirates                           0.911"
      ]
     },
     "execution_count": 476,
     "metadata": {},
     "output_type": "execute_result"
    }
   ],
   "source": [
    "human_development_index_filtered = human_development_index[['Country', 'Human Development Index (2021)']]\n",
    "human_development_index_filtered.head()"
   ]
  },
  {
   "cell_type": "markdown",
   "metadata": {},
   "source": [
    "### Sustainable Energy"
   ]
  },
  {
   "cell_type": "code",
   "execution_count": 477,
   "metadata": {},
   "outputs": [
    {
     "data": {
      "text/html": [
       "<div>\n",
       "<style scoped>\n",
       "    .dataframe tbody tr th:only-of-type {\n",
       "        vertical-align: middle;\n",
       "    }\n",
       "\n",
       "    .dataframe tbody tr th {\n",
       "        vertical-align: top;\n",
       "    }\n",
       "\n",
       "    .dataframe thead th {\n",
       "        text-align: right;\n",
       "    }\n",
       "</style>\n",
       "<table border=\"1\" class=\"dataframe\">\n",
       "  <thead>\n",
       "    <tr style=\"text-align: right;\">\n",
       "      <th></th>\n",
       "      <th>Country</th>\n",
       "      <th>Access to clean fuels and technologies for cooking 2021</th>\n",
       "      <th>Renewable energy consumption 2020</th>\n",
       "    </tr>\n",
       "  </thead>\n",
       "  <tbody>\n",
       "    <tr>\n",
       "      <th>0</th>\n",
       "      <td>Afghanistan</td>\n",
       "      <td>35.4</td>\n",
       "      <td>17.6</td>\n",
       "    </tr>\n",
       "    <tr>\n",
       "      <th>1</th>\n",
       "      <td>Albania</td>\n",
       "      <td>83.7</td>\n",
       "      <td>44.6</td>\n",
       "    </tr>\n",
       "    <tr>\n",
       "      <th>2</th>\n",
       "      <td>Algeria</td>\n",
       "      <td>99.7</td>\n",
       "      <td>0.2</td>\n",
       "    </tr>\n",
       "    <tr>\n",
       "      <th>3</th>\n",
       "      <td>American Samoa</td>\n",
       "      <td>..</td>\n",
       "      <td>0.5</td>\n",
       "    </tr>\n",
       "    <tr>\n",
       "      <th>4</th>\n",
       "      <td>Andorra</td>\n",
       "      <td>100</td>\n",
       "      <td>21.9</td>\n",
       "    </tr>\n",
       "  </tbody>\n",
       "</table>\n",
       "</div>"
      ],
      "text/plain": [
       "          Country Access to clean fuels and technologies for cooking 2021  \\\n",
       "0     Afghanistan                                               35.4        \n",
       "1         Albania                                               83.7        \n",
       "2         Algeria                                               99.7        \n",
       "3  American Samoa                                                 ..        \n",
       "4         Andorra                                                100        \n",
       "\n",
       "  Renewable energy consumption 2020  \n",
       "0                              17.6  \n",
       "1                              44.6  \n",
       "2                               0.2  \n",
       "3                               0.5  \n",
       "4                              21.9  "
      ]
     },
     "execution_count": 477,
     "metadata": {},
     "output_type": "execute_result"
    }
   ],
   "source": [
    "sustainable_energy_filtered = sustainable_energy[['Country', 'Access to clean fuels and technologies for cooking 2021', 'Renewable energy consumption 2020']]\n",
    "sustainable_energy_filtered.head()"
   ]
  },
  {
   "cell_type": "markdown",
   "metadata": {},
   "source": [
    "### Emissions"
   ]
  },
  {
   "cell_type": "code",
   "execution_count": 478,
   "metadata": {},
   "outputs": [
    {
     "data": {
      "text/html": [
       "<div>\n",
       "<style scoped>\n",
       "    .dataframe tbody tr th:only-of-type {\n",
       "        vertical-align: middle;\n",
       "    }\n",
       "\n",
       "    .dataframe tbody tr th {\n",
       "        vertical-align: top;\n",
       "    }\n",
       "\n",
       "    .dataframe thead th {\n",
       "        text-align: right;\n",
       "    }\n",
       "</style>\n",
       "<table border=\"1\" class=\"dataframe\">\n",
       "  <thead>\n",
       "    <tr style=\"text-align: right;\">\n",
       "      <th></th>\n",
       "      <th>Country</th>\n",
       "      <th>Carbon dioxide emissions 2020</th>\n",
       "      <th>Methane emissions 2020</th>\n",
       "      <th>Nitrous oxide emissions 2020</th>\n",
       "    </tr>\n",
       "  </thead>\n",
       "  <tbody>\n",
       "    <tr>\n",
       "      <th>0</th>\n",
       "      <td>Afghanistan</td>\n",
       "      <td>8709.47</td>\n",
       "      <td>16222.03596</td>\n",
       "      <td>4863.386801</td>\n",
       "    </tr>\n",
       "    <tr>\n",
       "      <th>1</th>\n",
       "      <td>Albania</td>\n",
       "      <td>4383.2</td>\n",
       "      <td>2692.195886</td>\n",
       "      <td>1015.186729</td>\n",
       "    </tr>\n",
       "    <tr>\n",
       "      <th>2</th>\n",
       "      <td>Algeria</td>\n",
       "      <td>161563</td>\n",
       "      <td>86543.92362</td>\n",
       "      <td>12578.7476</td>\n",
       "    </tr>\n",
       "    <tr>\n",
       "      <th>3</th>\n",
       "      <td>American Samoa</td>\n",
       "      <td>..</td>\n",
       "      <td>..</td>\n",
       "      <td>..</td>\n",
       "    </tr>\n",
       "    <tr>\n",
       "      <th>4</th>\n",
       "      <td>Andorra</td>\n",
       "      <td>448.884399</td>\n",
       "      <td>53.600959</td>\n",
       "      <td>1.758811</td>\n",
       "    </tr>\n",
       "  </tbody>\n",
       "</table>\n",
       "</div>"
      ],
      "text/plain": [
       "          Country Carbon dioxide emissions 2020 Methane emissions 2020  \\\n",
       "0     Afghanistan                       8709.47            16222.03596   \n",
       "1         Albania                        4383.2            2692.195886   \n",
       "2         Algeria                        161563            86543.92362   \n",
       "3  American Samoa                            ..                     ..   \n",
       "4         Andorra                    448.884399              53.600959   \n",
       "\n",
       "  Nitrous oxide emissions 2020  \n",
       "0                  4863.386801  \n",
       "1                  1015.186729  \n",
       "2                   12578.7476  \n",
       "3                           ..  \n",
       "4                     1.758811  "
      ]
     },
     "execution_count": 478,
     "metadata": {},
     "output_type": "execute_result"
    }
   ],
   "source": [
    "emissions_filtered = emissions[['Country', 'Carbon dioxide emissions 2020', 'Methane emissions 2020', 'Nitrous oxide emissions 2020']]\n",
    "emissions_filtered.head()"
   ]
  },
  {
   "cell_type": "markdown",
   "metadata": {},
   "source": [
    "## 3. Merge Datasets"
   ]
  },
  {
   "cell_type": "markdown",
   "metadata": {},
   "source": [
    "Remove unnecessary rows after last country (Zimbabwe) for Freshwater, Sustainable Energy, and Emissions dataset"
   ]
  },
  {
   "cell_type": "code",
   "execution_count": 479,
   "metadata": {},
   "outputs": [
    {
     "data": {
      "text/html": [
       "<div>\n",
       "<style scoped>\n",
       "    .dataframe tbody tr th:only-of-type {\n",
       "        vertical-align: middle;\n",
       "    }\n",
       "\n",
       "    .dataframe tbody tr th {\n",
       "        vertical-align: top;\n",
       "    }\n",
       "\n",
       "    .dataframe thead th {\n",
       "        text-align: right;\n",
       "    }\n",
       "</style>\n",
       "<table border=\"1\" class=\"dataframe\">\n",
       "  <thead>\n",
       "    <tr style=\"text-align: right;\">\n",
       "      <th></th>\n",
       "      <th>Country</th>\n",
       "      <th>Internal renewable freshwater resources flows 2020</th>\n",
       "    </tr>\n",
       "  </thead>\n",
       "  <tbody>\n",
       "    <tr>\n",
       "      <th>0</th>\n",
       "      <td>Afghanistan</td>\n",
       "      <td>47.2</td>\n",
       "    </tr>\n",
       "    <tr>\n",
       "      <th>1</th>\n",
       "      <td>Albania</td>\n",
       "      <td>26.9</td>\n",
       "    </tr>\n",
       "    <tr>\n",
       "      <th>2</th>\n",
       "      <td>Algeria</td>\n",
       "      <td>11.2</td>\n",
       "    </tr>\n",
       "    <tr>\n",
       "      <th>3</th>\n",
       "      <td>American Samoa</td>\n",
       "      <td>..</td>\n",
       "    </tr>\n",
       "    <tr>\n",
       "      <th>4</th>\n",
       "      <td>Andorra</td>\n",
       "      <td>0.3</td>\n",
       "    </tr>\n",
       "    <tr>\n",
       "      <th>...</th>\n",
       "      <td>...</td>\n",
       "      <td>...</td>\n",
       "    </tr>\n",
       "    <tr>\n",
       "      <th>209</th>\n",
       "      <td>Virgin Islands (U.S.)</td>\n",
       "      <td>..</td>\n",
       "    </tr>\n",
       "    <tr>\n",
       "      <th>210</th>\n",
       "      <td>West Bank and Gaza</td>\n",
       "      <td>0.8</td>\n",
       "    </tr>\n",
       "    <tr>\n",
       "      <th>211</th>\n",
       "      <td>Yemen, Rep.</td>\n",
       "      <td>2.1</td>\n",
       "    </tr>\n",
       "    <tr>\n",
       "      <th>212</th>\n",
       "      <td>Zambia</td>\n",
       "      <td>80.2</td>\n",
       "    </tr>\n",
       "    <tr>\n",
       "      <th>213</th>\n",
       "      <td>Zimbabwe</td>\n",
       "      <td>12.3</td>\n",
       "    </tr>\n",
       "  </tbody>\n",
       "</table>\n",
       "<p>214 rows × 2 columns</p>\n",
       "</div>"
      ],
      "text/plain": [
       "                   Country Internal renewable freshwater resources flows 2020\n",
       "0              Afghanistan                                               47.2\n",
       "1                  Albania                                               26.9\n",
       "2                  Algeria                                               11.2\n",
       "3           American Samoa                                                 ..\n",
       "4                  Andorra                                                0.3\n",
       "..                     ...                                                ...\n",
       "209  Virgin Islands (U.S.)                                                 ..\n",
       "210     West Bank and Gaza                                                0.8\n",
       "211            Yemen, Rep.                                                2.1\n",
       "212                 Zambia                                               80.2\n",
       "213               Zimbabwe                                               12.3\n",
       "\n",
       "[214 rows x 2 columns]"
      ]
     },
     "execution_count": 479,
     "metadata": {},
     "output_type": "execute_result"
    }
   ],
   "source": [
    "freshwater_filtered = freshwater_filtered.loc[:freshwater_filtered[freshwater_filtered['Country'] == 'Zimbabwe'].index[0]]\n",
    "freshwater_filtered"
   ]
  },
  {
   "cell_type": "code",
   "execution_count": 480,
   "metadata": {},
   "outputs": [
    {
     "data": {
      "text/html": [
       "<div>\n",
       "<style scoped>\n",
       "    .dataframe tbody tr th:only-of-type {\n",
       "        vertical-align: middle;\n",
       "    }\n",
       "\n",
       "    .dataframe tbody tr th {\n",
       "        vertical-align: top;\n",
       "    }\n",
       "\n",
       "    .dataframe thead th {\n",
       "        text-align: right;\n",
       "    }\n",
       "</style>\n",
       "<table border=\"1\" class=\"dataframe\">\n",
       "  <thead>\n",
       "    <tr style=\"text-align: right;\">\n",
       "      <th></th>\n",
       "      <th>Country</th>\n",
       "      <th>Access to clean fuels and technologies for cooking 2021</th>\n",
       "      <th>Renewable energy consumption 2020</th>\n",
       "    </tr>\n",
       "  </thead>\n",
       "  <tbody>\n",
       "    <tr>\n",
       "      <th>0</th>\n",
       "      <td>Afghanistan</td>\n",
       "      <td>35.4</td>\n",
       "      <td>17.6</td>\n",
       "    </tr>\n",
       "    <tr>\n",
       "      <th>1</th>\n",
       "      <td>Albania</td>\n",
       "      <td>83.7</td>\n",
       "      <td>44.6</td>\n",
       "    </tr>\n",
       "    <tr>\n",
       "      <th>2</th>\n",
       "      <td>Algeria</td>\n",
       "      <td>99.7</td>\n",
       "      <td>0.2</td>\n",
       "    </tr>\n",
       "    <tr>\n",
       "      <th>3</th>\n",
       "      <td>American Samoa</td>\n",
       "      <td>..</td>\n",
       "      <td>0.5</td>\n",
       "    </tr>\n",
       "    <tr>\n",
       "      <th>4</th>\n",
       "      <td>Andorra</td>\n",
       "      <td>100</td>\n",
       "      <td>21.9</td>\n",
       "    </tr>\n",
       "    <tr>\n",
       "      <th>...</th>\n",
       "      <td>...</td>\n",
       "      <td>...</td>\n",
       "      <td>...</td>\n",
       "    </tr>\n",
       "    <tr>\n",
       "      <th>209</th>\n",
       "      <td>Virgin Islands (U.S.)</td>\n",
       "      <td>..</td>\n",
       "      <td>5.1</td>\n",
       "    </tr>\n",
       "    <tr>\n",
       "      <th>210</th>\n",
       "      <td>West Bank and Gaza</td>\n",
       "      <td>..</td>\n",
       "      <td>15</td>\n",
       "    </tr>\n",
       "    <tr>\n",
       "      <th>211</th>\n",
       "      <td>Yemen, Rep.</td>\n",
       "      <td>61.3</td>\n",
       "      <td>3.5</td>\n",
       "    </tr>\n",
       "    <tr>\n",
       "      <th>212</th>\n",
       "      <td>Zambia</td>\n",
       "      <td>10.2</td>\n",
       "      <td>81.8</td>\n",
       "    </tr>\n",
       "    <tr>\n",
       "      <th>213</th>\n",
       "      <td>Zimbabwe</td>\n",
       "      <td>30.3</td>\n",
       "      <td>84.4</td>\n",
       "    </tr>\n",
       "  </tbody>\n",
       "</table>\n",
       "<p>214 rows × 3 columns</p>\n",
       "</div>"
      ],
      "text/plain": [
       "                   Country  \\\n",
       "0              Afghanistan   \n",
       "1                  Albania   \n",
       "2                  Algeria   \n",
       "3           American Samoa   \n",
       "4                  Andorra   \n",
       "..                     ...   \n",
       "209  Virgin Islands (U.S.)   \n",
       "210     West Bank and Gaza   \n",
       "211            Yemen, Rep.   \n",
       "212                 Zambia   \n",
       "213               Zimbabwe   \n",
       "\n",
       "    Access to clean fuels and technologies for cooking 2021  \\\n",
       "0                                                 35.4        \n",
       "1                                                 83.7        \n",
       "2                                                 99.7        \n",
       "3                                                   ..        \n",
       "4                                                  100        \n",
       "..                                                 ...        \n",
       "209                                                 ..        \n",
       "210                                                 ..        \n",
       "211                                               61.3        \n",
       "212                                               10.2        \n",
       "213                                               30.3        \n",
       "\n",
       "    Renewable energy consumption 2020  \n",
       "0                                17.6  \n",
       "1                                44.6  \n",
       "2                                 0.2  \n",
       "3                                 0.5  \n",
       "4                                21.9  \n",
       "..                                ...  \n",
       "209                               5.1  \n",
       "210                                15  \n",
       "211                               3.5  \n",
       "212                              81.8  \n",
       "213                              84.4  \n",
       "\n",
       "[214 rows x 3 columns]"
      ]
     },
     "execution_count": 480,
     "metadata": {},
     "output_type": "execute_result"
    }
   ],
   "source": [
    "sustainable_energy_filtered = sustainable_energy_filtered.loc[:sustainable_energy_filtered[sustainable_energy_filtered['Country'] == 'Zimbabwe'].index[0]]\n",
    "sustainable_energy_filtered"
   ]
  },
  {
   "cell_type": "code",
   "execution_count": 481,
   "metadata": {},
   "outputs": [
    {
     "data": {
      "text/html": [
       "<div>\n",
       "<style scoped>\n",
       "    .dataframe tbody tr th:only-of-type {\n",
       "        vertical-align: middle;\n",
       "    }\n",
       "\n",
       "    .dataframe tbody tr th {\n",
       "        vertical-align: top;\n",
       "    }\n",
       "\n",
       "    .dataframe thead th {\n",
       "        text-align: right;\n",
       "    }\n",
       "</style>\n",
       "<table border=\"1\" class=\"dataframe\">\n",
       "  <thead>\n",
       "    <tr style=\"text-align: right;\">\n",
       "      <th></th>\n",
       "      <th>Country</th>\n",
       "      <th>Carbon dioxide emissions 2020</th>\n",
       "      <th>Methane emissions 2020</th>\n",
       "      <th>Nitrous oxide emissions 2020</th>\n",
       "    </tr>\n",
       "  </thead>\n",
       "  <tbody>\n",
       "    <tr>\n",
       "      <th>0</th>\n",
       "      <td>Afghanistan</td>\n",
       "      <td>8709.47</td>\n",
       "      <td>16222.03596</td>\n",
       "      <td>4863.386801</td>\n",
       "    </tr>\n",
       "    <tr>\n",
       "      <th>1</th>\n",
       "      <td>Albania</td>\n",
       "      <td>4383.2</td>\n",
       "      <td>2692.195886</td>\n",
       "      <td>1015.186729</td>\n",
       "    </tr>\n",
       "    <tr>\n",
       "      <th>2</th>\n",
       "      <td>Algeria</td>\n",
       "      <td>161563</td>\n",
       "      <td>86543.92362</td>\n",
       "      <td>12578.7476</td>\n",
       "    </tr>\n",
       "    <tr>\n",
       "      <th>3</th>\n",
       "      <td>American Samoa</td>\n",
       "      <td>..</td>\n",
       "      <td>..</td>\n",
       "      <td>..</td>\n",
       "    </tr>\n",
       "    <tr>\n",
       "      <th>4</th>\n",
       "      <td>Andorra</td>\n",
       "      <td>448.884399</td>\n",
       "      <td>53.600959</td>\n",
       "      <td>1.758811</td>\n",
       "    </tr>\n",
       "    <tr>\n",
       "      <th>...</th>\n",
       "      <td>...</td>\n",
       "      <td>...</td>\n",
       "      <td>...</td>\n",
       "      <td>...</td>\n",
       "    </tr>\n",
       "    <tr>\n",
       "      <th>209</th>\n",
       "      <td>Virgin Islands (U.S.)</td>\n",
       "      <td>..</td>\n",
       "      <td>..</td>\n",
       "      <td>..</td>\n",
       "    </tr>\n",
       "    <tr>\n",
       "      <th>210</th>\n",
       "      <td>West Bank and Gaza</td>\n",
       "      <td>..</td>\n",
       "      <td>..</td>\n",
       "      <td>..</td>\n",
       "    </tr>\n",
       "    <tr>\n",
       "      <th>211</th>\n",
       "      <td>Yemen, Rep.</td>\n",
       "      <td>9960.1</td>\n",
       "      <td>10542.15376</td>\n",
       "      <td>3364.858401</td>\n",
       "    </tr>\n",
       "    <tr>\n",
       "      <th>212</th>\n",
       "      <td>Zambia</td>\n",
       "      <td>7607.1</td>\n",
       "      <td>15448.75233</td>\n",
       "      <td>12363.49464</td>\n",
       "    </tr>\n",
       "    <tr>\n",
       "      <th>213</th>\n",
       "      <td>Zimbabwe</td>\n",
       "      <td>8312.5</td>\n",
       "      <td>12060.82302</td>\n",
       "      <td>4690.849521</td>\n",
       "    </tr>\n",
       "  </tbody>\n",
       "</table>\n",
       "<p>214 rows × 4 columns</p>\n",
       "</div>"
      ],
      "text/plain": [
       "                   Country Carbon dioxide emissions 2020  \\\n",
       "0              Afghanistan                       8709.47   \n",
       "1                  Albania                        4383.2   \n",
       "2                  Algeria                        161563   \n",
       "3           American Samoa                            ..   \n",
       "4                  Andorra                    448.884399   \n",
       "..                     ...                           ...   \n",
       "209  Virgin Islands (U.S.)                            ..   \n",
       "210     West Bank and Gaza                            ..   \n",
       "211            Yemen, Rep.                        9960.1   \n",
       "212                 Zambia                        7607.1   \n",
       "213               Zimbabwe                        8312.5   \n",
       "\n",
       "    Methane emissions 2020 Nitrous oxide emissions 2020  \n",
       "0              16222.03596                  4863.386801  \n",
       "1              2692.195886                  1015.186729  \n",
       "2              86543.92362                   12578.7476  \n",
       "3                       ..                           ..  \n",
       "4                53.600959                     1.758811  \n",
       "..                     ...                          ...  \n",
       "209                     ..                           ..  \n",
       "210                     ..                           ..  \n",
       "211            10542.15376                  3364.858401  \n",
       "212            15448.75233                  12363.49464  \n",
       "213            12060.82302                  4690.849521  \n",
       "\n",
       "[214 rows x 4 columns]"
      ]
     },
     "execution_count": 481,
     "metadata": {},
     "output_type": "execute_result"
    }
   ],
   "source": [
    "emissions_filtered = emissions_filtered.loc[:emissions_filtered[emissions_filtered['Country'] == 'Zimbabwe'].index[0]]\n",
    "emissions_filtered"
   ]
  },
  {
   "cell_type": "markdown",
   "metadata": {},
   "source": [
    "Get standardised country names map to merge data into one CSV file as each datasets might have different conventions on naming the countries. \n",
    "\n",
    "I did this with the help of GPT-4, but it was not entirely accurate so I also had to input some of the key-value pairs manually."
   ]
  },
  {
   "cell_type": "code",
   "execution_count": 482,
   "metadata": {},
   "outputs": [],
   "source": [
    "country_name_mapping = {\n",
    "    \"Bahamas, The\": \"Bahamas\",\n",
    "    \"Bolivia\": \"Bolivia (Plurinational State of)\",\n",
    "    \"Brunei\": \"Brunei Darussalam\",\n",
    "    \"Congo, Dem. Rep.\": \"Democratic Republic of the Congo\",\n",
    "    \"Congo, Democratic Republic of the\": \"Democratic Republic of the Congo\",\n",
    "    \"The Democratic Republic of the Congo\": \"Democratic Republic of the Congo\",\n",
    "    \"Congo, Rep.\": \"Congo\",\n",
    "    \"Congo, Republic of\": \"Congo\",\n",
    "    \"Cote d'Ivoire\": \"Côte d’Ivoire\",\n",
    "    \"Ivory Coast\": \"Côte d’Ivoire\",\n",
    "    \"Czech Republic\": \"Czechia\",\n",
    "    \"Gambia, The\": \"Gambia\",\n",
    "    \"Korea, Rep.\": \"Republic of Korea\",\n",
    "    \"Korea, Republic of\": \"Republic of Korea\",\n",
    "    \"South Korea\": \"Republic of Korea\",\n",
    "    \"Korea, Dem. People's Rep.\": \"Democratic People's Republic of Korea\",\n",
    "    \"North Korea\": \"Democratic People's Republic of Korea\",\n",
    "    \"Iran, Islamic Rep.\": \"Iran (Islamic Republic of)\",\n",
    "    \"Iran\": \"Iran (Islamic Republic of)\",\n",
    "    \"Lao PDR\": \"Lao People's Democratic Republic\",\n",
    "    \"Lao\": \"Lao People's Democratic Republic\",\n",
    "    \"Micronesia, Fed. Sts.\": \"Micronesia (Federated States of)\",\n",
    "    \"Micronesia\": \"Micronesia (Federated States of)\",\n",
    "    \"Moldova\": \"Republic of Moldova\",\n",
    "    \"Palestine, State of\": \"State of Palestine\",\n",
    "    \"St. Kitts and Nevis\": \"Saint Kitts and Nevis\",\n",
    "    \"St. Lucia\": \"Saint Lucia\",\n",
    "    \"St. Vincent and the Grenadines\": \"Saint Vincent and the Grenadines\",\n",
    "    \"Turkiye\": \"Turkey\",\n",
    "    \"Tanzania\": \"United Republic of Tanzania\",\n",
    "    \"Venezuela, RB\": \"Venezuela\",\n",
    "    \"Yemen, Rep.\": \"Yemen\",\n",
    "    \"Syria\": \"Syrian Arab Republic\",\n",
    "    \"Egypt, Arab Rep.\": \"Egypt\",\n",
    "    \"Kyrgyz Republic\": \"Kyrgyzstan\",\n",
    "    \"Slovak Republic\": \"Slovakia\",\n",
    "    \"Russia\": \"Russian Federation\",\n",
    "    \"United Kingdom\": \"United Kingdom of Great Britain and Northern Ireland\",\n",
    "    \"United States\": \"United States of America\",\n",
    "    \"Vietnam\": \"Viet Nam\",\n",
    "    \"Venezuela\": \"Venezuela (Bolivarian Republic of)\",\n",
    "    \"Venezuela, RB\": \"Venezuela (Bolivarian Republic of)\",\n",
    "    \"West Bank and Gaza\": \"State of Palestine\",\n",
    "}"
   ]
  },
  {
   "cell_type": "code",
   "execution_count": 483,
   "metadata": {},
   "outputs": [
    {
     "name": "stdout",
     "output_type": "stream",
     "text": [
      "Forest Area:  237\n",
      "Freshwater:  214\n",
      "GDP per Capita:  271\n",
      "Governance:  194\n",
      "HDI:  195\n",
      "Sustainable Energy:  214\n",
      "Emissions:  214\n"
     ]
    }
   ],
   "source": [
    "print(\"Forest Area: \", len(forest_area_filtered))\n",
    "print(\"Freshwater: \", len(freshwater_filtered))\n",
    "print(\"GDP per Capita: \", len(gdp_per_capita_filtered))\n",
    "print(\"Governance: \", len(governance_filtered))\n",
    "print(\"HDI: \", len(human_development_index_filtered))\n",
    "print(\"Sustainable Energy: \", len(sustainable_energy_filtered))\n",
    "print(\"Emissions: \", len(emissions_filtered))"
   ]
  },
  {
   "cell_type": "markdown",
   "metadata": {},
   "source": [
    "As the Governance dataset has the least amount of countries, I'm going to use countries from the Governance dataset as the base country list for the merged data."
   ]
  },
  {
   "cell_type": "code",
   "execution_count": 484,
   "metadata": {},
   "outputs": [
    {
     "data": {
      "text/plain": [
       "array(['Afghanistan', 'Albania', 'Algeria', 'Andorra', 'Angola',\n",
       "       'Antigua and Barbuda', 'Argentina', 'Armenia', 'Australia',\n",
       "       'Austria', 'Azerbaijan', 'Bahamas', 'Bahrain', 'Bangladesh',\n",
       "       'Barbados', 'Belarus', 'Belgium', 'Belize', 'Benin', 'Bhutan',\n",
       "       'Bolivia (Plurinational State of)', 'Bosnia and Herzegovina',\n",
       "       'Botswana', 'Brazil', 'Brunei Darussalam', 'Bulgaria',\n",
       "       'Burkina Faso', 'Burundi', 'Cabo Verde', 'Cambodia', 'Cameroon',\n",
       "       'Canada', 'Central African Republic', 'Chad', 'Chile', 'China',\n",
       "       'Colombia', 'Comoros', 'Congo', 'Costa Rica', 'Côte d’Ivoire',\n",
       "       'Croatia', 'Cuba', 'Cyprus', 'Czechia',\n",
       "       \"Democratic People's Republic of Korea\",\n",
       "       'Democratic Republic of the Congo', 'Denmark', 'Djibouti',\n",
       "       'Dominica', 'Dominican Republic', 'Ecuador', 'Egypt',\n",
       "       'El Salvador', 'Equatorial Guinea', 'Eritrea', 'Estonia',\n",
       "       'Eswatini', 'Ethiopia', 'Fiji', 'Finland', 'France', 'Gabon',\n",
       "       'Gambia', 'Georgia', 'Germany', 'Ghana', 'Greece', 'Grenada',\n",
       "       'Guatemala', 'Guinea', 'Guinea-Bissau', 'Guyana', 'Haiti',\n",
       "       'Honduras', 'Hungary', 'Iceland', 'India', 'Indonesia',\n",
       "       'Iran (Islamic Republic of)', 'Iraq', 'Ireland', 'Israel', 'Italy',\n",
       "       'Jamaica', 'Japan', 'Jordan', 'Kazakhstan', 'Kenya', 'Kiribati',\n",
       "       'Kuwait', 'Kyrgyzstan', \"Lao People's Democratic Republic\",\n",
       "       'Latvia', 'Lebanon', 'Lesotho', 'Liberia', 'Libya',\n",
       "       'Liechtenstein', 'Lithuania', 'Luxembourg', 'Madagascar', 'Malawi',\n",
       "       'Malaysia', 'Maldives', 'Mali', 'Malta', 'Marshall Islands',\n",
       "       'Mauritania', 'Mauritius', 'Mexico',\n",
       "       'Micronesia (Federated States of)', 'Monaco', 'Mongolia',\n",
       "       'Montenegro', 'Morocco', 'Mozambique', 'Myanmar', 'Namibia',\n",
       "       'Nauru', 'Nepal', 'Netherlands', 'New Zealand', 'Nicaragua',\n",
       "       'Niger', 'Nigeria', 'North Macedonia', 'Norway', 'Oman',\n",
       "       'Pakistan', 'Palau', 'Panama', 'Papua New Guinea', 'Paraguay',\n",
       "       'Peru', 'Philippines', 'Poland', 'Portugal', 'Qatar',\n",
       "       'Republic of Korea', 'Republic of Moldova', 'Romania',\n",
       "       'Russian Federation', 'Rwanda', 'Saint Kitts and Nevis',\n",
       "       'Saint Lucia', 'Saint Vincent and the Grenadines', 'Samoa',\n",
       "       'San Marino', 'Sao Tome and Principe', 'Saudi Arabia', 'Senegal',\n",
       "       'Serbia', 'Seychelles', 'Sierra Leone', 'Singapore', 'Slovakia',\n",
       "       'Slovenia', 'Solomon Islands', 'Somalia', 'South Africa',\n",
       "       'South Sudan', 'Spain', 'Sri Lanka', 'State of Palestine', 'Sudan',\n",
       "       'Suriname', 'Sweden', 'Switzerland', 'Syrian Arab Republic',\n",
       "       'Tajikistan', 'Thailand', 'Timor-Leste', 'Togo', 'Tonga',\n",
       "       'Trinidad and Tobago', 'Tunisia', 'Turkey', 'Turkmenistan',\n",
       "       'Tuvalu', 'Uganda', 'Ukraine', 'United Arab Emirates',\n",
       "       'United Kingdom of Great Britain and Northern Ireland',\n",
       "       'United Republic of Tanzania', 'United States of America',\n",
       "       'Uruguay', 'Uzbekistan', 'Vanuatu',\n",
       "       'Venezuela (Bolivarian Republic of)', 'Viet Nam', 'Yemen',\n",
       "       'Zambia', 'Zimbabwe'], dtype=object)"
      ]
     },
     "execution_count": 484,
     "metadata": {},
     "output_type": "execute_result"
    }
   ],
   "source": [
    "countries_list = governance_filtered['Country'].unique()\n",
    "countries_list"
   ]
  },
  {
   "cell_type": "markdown",
   "metadata": {},
   "source": [
    "Map the country names from other datasets to match the country name in the Governance dataset."
   ]
  },
  {
   "cell_type": "code",
   "execution_count": 485,
   "metadata": {},
   "outputs": [
    {
     "data": {
      "text/plain": [
       "194"
      ]
     },
     "execution_count": 485,
     "metadata": {},
     "output_type": "execute_result"
    }
   ],
   "source": [
    "forest_area_filtered.loc[:, 'Country'] = forest_area_filtered['Country'].replace(country_name_mapping)\n",
    "forest_area_filtered = forest_area_filtered[forest_area_filtered['Country'].isin(countries_list)]\n",
    "len(forest_area_filtered)"
   ]
  },
  {
   "cell_type": "code",
   "execution_count": 486,
   "metadata": {},
   "outputs": [
    {
     "data": {
      "text/plain": [
       "193"
      ]
     },
     "execution_count": 486,
     "metadata": {},
     "output_type": "execute_result"
    }
   ],
   "source": [
    "freshwater_filtered.loc[:, 'Country'] = freshwater_filtered['Country'].replace(country_name_mapping)\n",
    "freshwater_filtered = freshwater_filtered[freshwater_filtered['Country'].isin(countries_list)]\n",
    "len(freshwater_filtered)"
   ]
  },
  {
   "cell_type": "code",
   "execution_count": 487,
   "metadata": {},
   "outputs": [
    {
     "data": {
      "text/plain": [
       "194"
      ]
     },
     "execution_count": 487,
     "metadata": {},
     "output_type": "execute_result"
    }
   ],
   "source": [
    "gdp_per_capita_filtered.loc[:, 'Country'] = gdp_per_capita_filtered['Country'].replace(country_name_mapping)\n",
    "gdp_per_capita_filtered = gdp_per_capita_filtered[gdp_per_capita_filtered['Country'].isin(countries_list)]\n",
    "len(gdp_per_capita_filtered)"
   ]
  },
  {
   "cell_type": "code",
   "execution_count": 488,
   "metadata": {},
   "outputs": [
    {
     "data": {
      "text/plain": [
       "194"
      ]
     },
     "execution_count": 488,
     "metadata": {},
     "output_type": "execute_result"
    }
   ],
   "source": [
    "human_development_index_filtered.loc[:, 'Country'] = human_development_index_filtered['Country'].replace(country_name_mapping)\n",
    "human_development_index_filtered = human_development_index_filtered[human_development_index_filtered['Country'].isin(countries_list)]\n",
    "len(human_development_index_filtered)"
   ]
  },
  {
   "cell_type": "code",
   "execution_count": 489,
   "metadata": {},
   "outputs": [
    {
     "data": {
      "text/plain": [
       "193"
      ]
     },
     "execution_count": 489,
     "metadata": {},
     "output_type": "execute_result"
    }
   ],
   "source": [
    "sustainable_energy_filtered.loc[:, 'Country'] = sustainable_energy_filtered['Country'].replace(country_name_mapping)\n",
    "sustainable_energy_filtered = sustainable_energy_filtered[sustainable_energy_filtered['Country'].isin(countries_list)]\n",
    "len(sustainable_energy_filtered)"
   ]
  },
  {
   "cell_type": "code",
   "execution_count": 490,
   "metadata": {},
   "outputs": [
    {
     "data": {
      "text/plain": [
       "193"
      ]
     },
     "execution_count": 490,
     "metadata": {},
     "output_type": "execute_result"
    }
   ],
   "source": [
    "emissions_filtered.loc[:, 'Country'] = emissions_filtered['Country'].replace(country_name_mapping)\n",
    "emissions_filtered = emissions_filtered[emissions_filtered['Country'].isin(countries_list)]\n",
    "len(emissions_filtered)"
   ]
  },
  {
   "cell_type": "code",
   "execution_count": 491,
   "metadata": {},
   "outputs": [
    {
     "data": {
      "text/plain": [
       "['Nauru']"
      ]
     },
     "execution_count": 491,
     "metadata": {},
     "output_type": "execute_result"
    }
   ],
   "source": [
    "freshwater_countries = freshwater_filtered['Country'].unique()\n",
    "missing_countries = list(set(countries_list) - set(freshwater_countries))\n",
    "missing_countries"
   ]
  },
  {
   "cell_type": "code",
   "execution_count": 492,
   "metadata": {},
   "outputs": [
    {
     "data": {
      "text/plain": [
       "['Nauru']"
      ]
     },
     "execution_count": 492,
     "metadata": {},
     "output_type": "execute_result"
    }
   ],
   "source": [
    "sustainable_energy_countries = sustainable_energy_filtered['Country'].unique()\n",
    "missing_countries = list(set(countries_list) - set(sustainable_energy_countries))\n",
    "missing_countries"
   ]
  },
  {
   "cell_type": "code",
   "execution_count": 493,
   "metadata": {},
   "outputs": [
    {
     "data": {
      "text/plain": [
       "['Nauru']"
      ]
     },
     "execution_count": 493,
     "metadata": {},
     "output_type": "execute_result"
    }
   ],
   "source": [
    "emissions_countries = emissions_filtered['Country'].unique()\n",
    "missing_countries = list(set(countries_list) - set(emissions_countries))\n",
    "missing_countries"
   ]
  },
  {
   "cell_type": "markdown",
   "metadata": {},
   "source": [
    "So in conclusion, I am going to have a total of 193 countries.\n",
    "\n",
    "The country excluded from the index that is in the original countries list is:\n",
    "* Nauru\n",
    "\n",
    "as it is not present in the Freshwater, Sustainable Energy, and Emissions dataset."
   ]
  },
  {
   "cell_type": "code",
   "execution_count": 494,
   "metadata": {},
   "outputs": [],
   "source": [
    "from functools import reduce"
   ]
  },
  {
   "cell_type": "code",
   "execution_count": 495,
   "metadata": {},
   "outputs": [
    {
     "data": {
      "text/html": [
       "<div>\n",
       "<style scoped>\n",
       "    .dataframe tbody tr th:only-of-type {\n",
       "        vertical-align: middle;\n",
       "    }\n",
       "\n",
       "    .dataframe tbody tr th {\n",
       "        vertical-align: top;\n",
       "    }\n",
       "\n",
       "    .dataframe thead th {\n",
       "        text-align: right;\n",
       "    }\n",
       "</style>\n",
       "<table border=\"1\" class=\"dataframe\">\n",
       "  <thead>\n",
       "    <tr style=\"text-align: right;\">\n",
       "      <th></th>\n",
       "      <th>Country</th>\n",
       "      <th>Forest Area, 2020 (1000 ha)</th>\n",
       "      <th>Internal renewable freshwater resources flows 2020</th>\n",
       "      <th>GDP per Capita 2021</th>\n",
       "      <th>Paris Agreement</th>\n",
       "      <th>UN Framework Convention on Climate Change</th>\n",
       "      <th>Human Development Index (2021)</th>\n",
       "      <th>Access to clean fuels and technologies for cooking 2021</th>\n",
       "      <th>Renewable energy consumption 2020</th>\n",
       "      <th>Carbon dioxide emissions 2020</th>\n",
       "      <th>Methane emissions 2020</th>\n",
       "      <th>Nitrous oxide emissions 2020</th>\n",
       "    </tr>\n",
       "  </thead>\n",
       "  <tbody>\n",
       "    <tr>\n",
       "      <th>0</th>\n",
       "      <td>Afghanistan</td>\n",
       "      <td>1208.44</td>\n",
       "      <td>47.2</td>\n",
       "      <td>355.777826392648</td>\n",
       "      <td>2017</td>\n",
       "      <td>2002</td>\n",
       "      <td>0.478</td>\n",
       "      <td>35.4</td>\n",
       "      <td>17.6</td>\n",
       "      <td>8709.47</td>\n",
       "      <td>16222.03596</td>\n",
       "      <td>4863.386801</td>\n",
       "    </tr>\n",
       "    <tr>\n",
       "      <th>1</th>\n",
       "      <td>Albania</td>\n",
       "      <td>788.90</td>\n",
       "      <td>26.9</td>\n",
       "      <td>6377.20309553753</td>\n",
       "      <td>2016</td>\n",
       "      <td>1994</td>\n",
       "      <td>0.796</td>\n",
       "      <td>83.7</td>\n",
       "      <td>44.6</td>\n",
       "      <td>4383.2</td>\n",
       "      <td>2692.195886</td>\n",
       "      <td>1015.186729</td>\n",
       "    </tr>\n",
       "    <tr>\n",
       "      <th>2</th>\n",
       "      <td>Algeria</td>\n",
       "      <td>1949.00</td>\n",
       "      <td>11.2</td>\n",
       "      <td>3700.31469728198</td>\n",
       "      <td>2016</td>\n",
       "      <td>1993</td>\n",
       "      <td>0.745</td>\n",
       "      <td>99.7</td>\n",
       "      <td>0.2</td>\n",
       "      <td>161563</td>\n",
       "      <td>86543.92362</td>\n",
       "      <td>12578.7476</td>\n",
       "    </tr>\n",
       "    <tr>\n",
       "      <th>3</th>\n",
       "      <td>Andorra</td>\n",
       "      <td>16.00</td>\n",
       "      <td>0.3</td>\n",
       "      <td>42072.3194231234</td>\n",
       "      <td>2017</td>\n",
       "      <td>2011</td>\n",
       "      <td>0.858</td>\n",
       "      <td>100</td>\n",
       "      <td>21.9</td>\n",
       "      <td>448.884399</td>\n",
       "      <td>53.600959</td>\n",
       "      <td>1.758811</td>\n",
       "    </tr>\n",
       "    <tr>\n",
       "      <th>4</th>\n",
       "      <td>Angola</td>\n",
       "      <td>66607.38</td>\n",
       "      <td>148</td>\n",
       "      <td>1927.47407832091</td>\n",
       "      <td>...</td>\n",
       "      <td>2000</td>\n",
       "      <td>0.586</td>\n",
       "      <td>50</td>\n",
       "      <td>61</td>\n",
       "      <td>19814.5</td>\n",
       "      <td>32703.23811</td>\n",
       "      <td>17757.86784</td>\n",
       "    </tr>\n",
       "  </tbody>\n",
       "</table>\n",
       "</div>"
      ],
      "text/plain": [
       "       Country  Forest Area, 2020 (1000 ha)  \\\n",
       "0  Afghanistan                      1208.44   \n",
       "1      Albania                       788.90   \n",
       "2      Algeria                      1949.00   \n",
       "3      Andorra                        16.00   \n",
       "4       Angola                     66607.38   \n",
       "\n",
       "  Internal renewable freshwater resources flows 2020 GDP per Capita 2021  \\\n",
       "0                                               47.2    355.777826392648   \n",
       "1                                               26.9    6377.20309553753   \n",
       "2                                               11.2    3700.31469728198   \n",
       "3                                                0.3    42072.3194231234   \n",
       "4                                                148    1927.47407832091   \n",
       "\n",
       "  Paris Agreement  UN Framework Convention on Climate Change  \\\n",
       "0            2017                                       2002   \n",
       "1            2016                                       1994   \n",
       "2            2016                                       1993   \n",
       "3            2017                                       2011   \n",
       "4             ...                                       2000   \n",
       "\n",
       "   Human Development Index (2021)  \\\n",
       "0                           0.478   \n",
       "1                           0.796   \n",
       "2                           0.745   \n",
       "3                           0.858   \n",
       "4                           0.586   \n",
       "\n",
       "  Access to clean fuels and technologies for cooking 2021  \\\n",
       "0                                               35.4        \n",
       "1                                               83.7        \n",
       "2                                               99.7        \n",
       "3                                                100        \n",
       "4                                                 50        \n",
       "\n",
       "  Renewable energy consumption 2020 Carbon dioxide emissions 2020  \\\n",
       "0                              17.6                       8709.47   \n",
       "1                              44.6                        4383.2   \n",
       "2                               0.2                        161563   \n",
       "3                              21.9                    448.884399   \n",
       "4                                61                       19814.5   \n",
       "\n",
       "  Methane emissions 2020 Nitrous oxide emissions 2020  \n",
       "0            16222.03596                  4863.386801  \n",
       "1            2692.195886                  1015.186729  \n",
       "2            86543.92362                   12578.7476  \n",
       "3              53.600959                     1.758811  \n",
       "4            32703.23811                  17757.86784  "
      ]
     },
     "execution_count": 495,
     "metadata": {},
     "output_type": "execute_result"
    }
   ],
   "source": [
    "dfs = [forest_area_filtered, freshwater_filtered, gdp_per_capita_filtered, governance_filtered, human_development_index_filtered, sustainable_energy_filtered, emissions_filtered]\n",
    "merge_dfs = lambda left, right: pd.merge(left, right, on='Country', how='inner')\n",
    "lcdci_df = reduce(merge_dfs, dfs)\n",
    "lcdci_df.head()"
   ]
  }
 ],
 "metadata": {
  "kernelspec": {
   "display_name": "Python 3",
   "language": "python",
   "name": "python3"
  },
  "language_info": {
   "codemirror_mode": {
    "name": "ipython",
    "version": 3
   },
   "file_extension": ".py",
   "mimetype": "text/x-python",
   "name": "python",
   "nbconvert_exporter": "python",
   "pygments_lexer": "ipython3",
   "version": "3.11.5"
  }
 },
 "nbformat": 4,
 "nbformat_minor": 2
}
